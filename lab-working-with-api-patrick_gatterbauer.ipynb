{
 "cells": [
  {
   "cell_type": "markdown",
   "id": "43d8f14f",
   "metadata": {},
   "source": [
    "# Lab | Working with APIs\n",
    "\n",
    "#### Instructions \n",
    "\n",
    "Accessing TWITTERFETCH api"
   ]
  },
  {
   "cell_type": "code",
   "execution_count": null,
   "id": "07a1fbe6",
   "metadata": {},
   "outputs": [],
   "source": [
    "#### TWITTERFETCH API ### Get data from API\n",
    "# This endpoint will return all tweets by a user(username).For Valid response try username of twitter account.\n",
    "# fetchTweetByUser"
   ]
  },
  {
   "cell_type": "code",
   "execution_count": 1,
   "id": "1de27dd6",
   "metadata": {},
   "outputs": [
    {
     "name": "stdout",
     "output_type": "stream",
     "text": [
      "{\"user_name\":\"Zach Stuck\",\"user_screen_name\":\"zachmstuck\",\"followers_count\":21605,\"friends_count\":450,\"tweets\":[{\"created_at\":\"2022-06-07T15:28:12.000Z\",\"text\":\"@bobbypalmieri Management of applications, ability to track what stage of the hiring process each person is in, send them tests/assessments.\"},{\"created_at\":\"2022-06-07T15:23:55.000Z\",\"text\":\"Gotta love seeing @PublicSupply on Ashton's popup father's day shop.\\n\\nGo buy your dad a dope notebook. 📓 https://t.co/V3jv1fu0FL\"},{\"created_at\":\"2022-06-07T14:54:47.000Z\",\"text\":\"What tools and software are you using for managing hiring?\\n\\nI'm looking at Workable.\\n\\nAny thoughts?\"},{\"created_at\":\"2022-06-07T13:36:26.000Z\",\"text\":\"@John_Haslem Got you 🤙\"},{\"created_at\":\"2022-06-06T14:48:50.000Z\",\"text\":\"@JackRubin1 👏👏👏\"},{\"created_at\":\"2022-06-03T20:56:53.000Z\",\"text\":\"Our team is a small piece of the Hex growth puzzle but damn it’s been fun to be a part of. 🚀 https://t.co/CviLWYefws\"},{\"created_at\":\"2022-06-03T15:48:25.000Z\",\"text\":\"@navuud Site looks great! Custom theme?\"},{\"created_at\":\"2022-06-02T18:31:14.000Z\",\"text\":\"@nimasoco They’re public https://t.co/iIPTOHepaI\"},{\"created_at\":\"2022-06-02T17:07:58.000Z\",\"text\":\"@calebulf @_RileyTrotter\"},{\"created_at\":\"2022-06-02T14:03:13.000Z\",\"text\":\"Does anyone know the team at Solo Stove?\\n\\nIf so, I'd love an intro to tell them how:\\n\\nA. They're first review request email is missing their logo\\n\\nB. That YOTPO is bs and we should move them to another platform\\n\\nC. How we could drive millions more in email revenue for them https://t.co/yxGTyW3MT7\"}]}\n"
     ]
    }
   ],
   "source": [
    "import requests\n",
    "\n",
    "url = \"https://twitterfetch.p.rapidapi.com/user/zachmstuck\"\n",
    "\n",
    "headers = {\n",
    "\t\"X-RapidAPI-Host\": \"twitterfetch.p.rapidapi.com\",\n",
    "\t\"X-RapidAPI-Key\": \"da4f123f2fmsh0a677374c4ca336p13b496jsned8a19edf304\"\n",
    "}\n",
    "\n",
    "response = requests.request(\"GET\", url, headers=headers)\n",
    "\n",
    "print(response.text)"
   ]
  },
  {
   "cell_type": "code",
   "execution_count": 2,
   "id": "f3b85380",
   "metadata": {},
   "outputs": [],
   "source": [
    "#### Do the API call with a function"
   ]
  },
  {
   "cell_type": "code",
   "execution_count": 5,
   "id": "9b238b24",
   "metadata": {},
   "outputs": [],
   "source": [
    "headers = {\n",
    "\t\"X-RapidAPI-Host\": \"twitterfetch.p.rapidapi.com\",\n",
    "\t\"X-RapidAPI-Key\": \"da4f123f2fmsh0a677374c4ca336p13b496jsned8a19edf304\"\n",
    "}\n",
    "\n",
    "\n",
    "def get_user():\n",
    "    \n",
    "    user = input('Paste twitter user handle -> copy from URL: ')\n",
    "    print()\n",
    "    \n",
    "    url = f'https://twitterfetch.p.rapidapi.com/user/{user}'\n",
    "    querystring = {\"user\":user.lower()}\n",
    "\n",
    "    response = requests.request(\"GET\", url, headers=headers)\n",
    "\n",
    "    return response.json()\n"
   ]
  },
  {
   "cell_type": "code",
   "execution_count": 6,
   "id": "cf60ef37",
   "metadata": {},
   "outputs": [
    {
     "name": "stdout",
     "output_type": "stream",
     "text": [
      "Paste twitter user handle -> copy from URL: zachmstuck\n",
      "\n"
     ]
    },
    {
     "data": {
      "text/plain": [
       "{'user_name': 'Zach Stuck',\n",
       " 'user_screen_name': 'zachmstuck',\n",
       " 'followers_count': 21605,\n",
       " 'friends_count': 450,\n",
       " 'tweets': [{'created_at': '2022-06-07T15:28:12.000Z',\n",
       "   'text': '@bobbypalmieri Management of applications, ability to track what stage of the hiring process each person is in, send them tests/assessments.'},\n",
       "  {'created_at': '2022-06-07T15:23:55.000Z',\n",
       "   'text': \"Gotta love seeing @PublicSupply on Ashton's popup father's day shop.\\n\\nGo buy your dad a dope notebook. 📓 https://t.co/V3jv1fu0FL\"},\n",
       "  {'created_at': '2022-06-07T14:54:47.000Z',\n",
       "   'text': \"What tools and software are you using for managing hiring?\\n\\nI'm looking at Workable.\\n\\nAny thoughts?\"},\n",
       "  {'created_at': '2022-06-07T13:36:26.000Z', 'text': '@John_Haslem Got you 🤙'},\n",
       "  {'created_at': '2022-06-06T14:48:50.000Z', 'text': '@JackRubin1 👏👏👏'},\n",
       "  {'created_at': '2022-06-03T20:56:53.000Z',\n",
       "   'text': 'Our team is a small piece of the Hex growth puzzle but damn it’s been fun to be a part of. 🚀 https://t.co/CviLWYefws'},\n",
       "  {'created_at': '2022-06-03T15:48:25.000Z',\n",
       "   'text': '@navuud Site looks great! Custom theme?'},\n",
       "  {'created_at': '2022-06-02T18:31:14.000Z',\n",
       "   'text': '@nimasoco They’re public https://t.co/iIPTOHepaI'},\n",
       "  {'created_at': '2022-06-02T17:07:58.000Z',\n",
       "   'text': '@calebulf @_RileyTrotter'},\n",
       "  {'created_at': '2022-06-02T14:03:13.000Z',\n",
       "   'text': \"Does anyone know the team at Solo Stove?\\n\\nIf so, I'd love an intro to tell them how:\\n\\nA. They're first review request email is missing their logo\\n\\nB. That YOTPO is bs and we should move them to another platform\\n\\nC. How we could drive millions more in email revenue for them https://t.co/yxGTyW3MT7\"}]}"
      ]
     },
     "execution_count": 6,
     "metadata": {},
     "output_type": "execute_result"
    }
   ],
   "source": [
    "output = get_user()\n",
    "output"
   ]
  },
  {
   "cell_type": "code",
   "execution_count": null,
   "id": "f15eb97f",
   "metadata": {},
   "outputs": [],
   "source": []
  }
 ],
 "metadata": {
  "kernelspec": {
   "display_name": "Python 3 (ipykernel)",
   "language": "python",
   "name": "python3"
  },
  "language_info": {
   "codemirror_mode": {
    "name": "ipython",
    "version": 3
   },
   "file_extension": ".py",
   "mimetype": "text/x-python",
   "name": "python",
   "nbconvert_exporter": "python",
   "pygments_lexer": "ipython3",
   "version": "3.9.7"
  }
 },
 "nbformat": 4,
 "nbformat_minor": 5
}
